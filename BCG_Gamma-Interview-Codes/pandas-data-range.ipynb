{
 "cells": [
  {
   "cell_type": "code",
   "execution_count": 1,
   "metadata": {},
   "outputs": [
    {
     "name": "stdout",
     "output_type": "stream",
     "text": [
      "DatetimeIndex(['2020-01-01', '2020-02-01', '2020-03-01', '2020-04-01',\n",
      "               '2020-05-01', '2020-06-01', '2020-07-01', '2020-08-01',\n",
      "               '2020-09-01', '2020-10-01', '2020-11-01', '2020-12-01'],\n",
      "              dtype='datetime64[ns]', freq='MS')\n"
     ]
    }
   ],
   "source": [
    "import pandas as pd\n",
    "\n",
    "first2020 = pd.date_range(start='2020-01-01', end='2020-12-01', freq='MS')\n",
    "\n",
    "print(first2020)"
   ]
  },
  {
   "cell_type": "code",
   "execution_count": 2,
   "metadata": {},
   "outputs": [
    {
     "name": "stdout",
     "output_type": "stream",
     "text": [
      "DatetimeIndex(['2020-01-31', '2020-02-29', '2020-03-31', '2020-04-30',\n",
      "               '2020-05-31', '2020-06-30', '2020-07-31', '2020-08-31',\n",
      "               '2020-09-30', '2020-10-31', '2020-11-30'],\n",
      "              dtype='datetime64[ns]', freq='M')\n"
     ]
    }
   ],
   "source": [
    "last2020 = pd.date_range(start='2020-01-01', end='2020-12-01', freq='M')\n",
    "\n",
    "print(last2020)"
   ]
  },
  {
   "cell_type": "code",
   "execution_count": 4,
   "metadata": {},
   "outputs": [
    {
     "name": "stdout",
     "output_type": "stream",
     "text": [
      "DatetimeIndex(['2020-01-01', '2020-01-02', '2020-01-03', '2020-01-06',\n",
      "               '2020-01-07', '2020-01-08', '2020-01-09', '2020-01-10',\n",
      "               '2020-01-13', '2020-01-14',\n",
      "               ...\n",
      "               '2020-11-18', '2020-11-19', '2020-11-20', '2020-11-23',\n",
      "               '2020-11-24', '2020-11-25', '2020-11-26', '2020-11-27',\n",
      "               '2020-11-30', '2020-12-01'],\n",
      "              dtype='datetime64[ns]', length=240, freq='B')\n"
     ]
    }
   ],
   "source": [
    "business_days_2020 = pd.date_range(start='2020-01-01', end='2020-12-01', freq='B')\n",
    "\n",
    "print(business_days_2020)"
   ]
  },
  {
   "cell_type": "code",
   "execution_count": 5,
   "metadata": {},
   "outputs": [
    {
     "name": "stdout",
     "output_type": "stream",
     "text": [
      "DatetimeIndex(['2020-01-01', '2020-01-02', '2020-01-03', '2020-01-04',\n",
      "               '2020-01-05', '2020-01-06', '2020-01-07', '2020-01-08',\n",
      "               '2020-01-09', '2020-01-10',\n",
      "               ...\n",
      "               '2020-11-22', '2020-11-23', '2020-11-24', '2020-11-25',\n",
      "               '2020-11-26', '2020-11-27', '2020-11-28', '2020-11-29',\n",
      "               '2020-11-30', '2020-12-01'],\n",
      "              dtype='datetime64[ns]', length=336, freq='D')\n"
     ]
    }
   ],
   "source": [
    "calendar_days_2020 = pd.date_range(start='2020-01-01', end='2020-12-01', freq='D')\n",
    "\n",
    "print(calendar_days_2020)"
   ]
  }
 ],
 "metadata": {
  "kernelspec": {
   "display_name": "Python 3.9.13 64-bit (windows store)",
   "language": "python",
   "name": "python3"
  },
  "language_info": {
   "codemirror_mode": {
    "name": "ipython",
    "version": 3
   },
   "file_extension": ".py",
   "mimetype": "text/x-python",
   "name": "python",
   "nbconvert_exporter": "python",
   "pygments_lexer": "ipython3",
   "version": "3.9.13"
  },
  "orig_nbformat": 4,
  "vscode": {
   "interpreter": {
    "hash": "47e3f425e1f5e080840b02324288bfe2474c53b4d8fc90d3d863797934e6a5da"
   }
  }
 },
 "nbformat": 4,
 "nbformat_minor": 2
}
