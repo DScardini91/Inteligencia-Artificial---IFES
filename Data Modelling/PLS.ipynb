{
 "cells": [
  {
   "cell_type": "code",
   "execution_count": 53,
   "metadata": {},
   "outputs": [],
   "source": [
    "import scipy\n",
    "import pandas as pd\n",
    "import numpy as np\n",
    "import matplotlib.pyplot as plt\n",
    "import seaborn as sns\n",
    "from scipy.io import loadmat\n",
    "from sklearn.model_selection import train_test_split\n",
    "from sklearn.preprocessing import RobustScaler\n",
    "from sklearn.metrics import mean_squared_error\n",
    "from sklearn.metrics import r2_score"
   ]
  },
  {
   "cell_type": "code",
   "execution_count": 55,
   "metadata": {},
   "outputs": [
    {
     "data": {
      "text/html": [
       "<div>\n",
       "<style scoped>\n",
       "    .dataframe tbody tr th:only-of-type {\n",
       "        vertical-align: middle;\n",
       "    }\n",
       "\n",
       "    .dataframe tbody tr th {\n",
       "        vertical-align: top;\n",
       "    }\n",
       "\n",
       "    .dataframe thead th {\n",
       "        text-align: right;\n",
       "    }\n",
       "</style>\n",
       "<table border=\"1\" class=\"dataframe\">\n",
       "  <thead>\n",
       "    <tr style=\"text-align: right;\">\n",
       "      <th></th>\n",
       "      <th>0</th>\n",
       "      <th>1</th>\n",
       "      <th>2</th>\n",
       "      <th>3</th>\n",
       "      <th>4</th>\n",
       "      <th>5</th>\n",
       "      <th>6</th>\n",
       "      <th>7</th>\n",
       "      <th>8</th>\n",
       "      <th>9</th>\n",
       "      <th>...</th>\n",
       "      <th>693</th>\n",
       "      <th>694</th>\n",
       "      <th>695</th>\n",
       "      <th>696</th>\n",
       "      <th>697</th>\n",
       "      <th>698</th>\n",
       "      <th>699</th>\n",
       "      <th>700</th>\n",
       "      <th>701</th>\n",
       "      <th>702</th>\n",
       "    </tr>\n",
       "  </thead>\n",
       "  <tbody>\n",
       "    <tr>\n",
       "      <th>14</th>\n",
       "      <td>0.362412</td>\n",
       "      <td>0.361825</td>\n",
       "      <td>0.361134</td>\n",
       "      <td>0.360609</td>\n",
       "      <td>0.360112</td>\n",
       "      <td>0.359721</td>\n",
       "      <td>0.359339</td>\n",
       "      <td>0.359164</td>\n",
       "      <td>0.359098</td>\n",
       "      <td>0.359243</td>\n",
       "      <td>...</td>\n",
       "      <td>1.209659</td>\n",
       "      <td>1.210886</td>\n",
       "      <td>1.212192</td>\n",
       "      <td>1.213702</td>\n",
       "      <td>1.214268</td>\n",
       "      <td>1.215435</td>\n",
       "      <td>1.215187</td>\n",
       "      <td>1.215773</td>\n",
       "      <td>13.10</td>\n",
       "      <td>12.45</td>\n",
       "    </tr>\n",
       "    <tr>\n",
       "      <th>35</th>\n",
       "      <td>0.377192</td>\n",
       "      <td>0.376619</td>\n",
       "      <td>0.375880</td>\n",
       "      <td>0.375341</td>\n",
       "      <td>0.374844</td>\n",
       "      <td>0.374367</td>\n",
       "      <td>0.374075</td>\n",
       "      <td>0.373826</td>\n",
       "      <td>0.373707</td>\n",
       "      <td>0.373812</td>\n",
       "      <td>...</td>\n",
       "      <td>1.209182</td>\n",
       "      <td>1.210624</td>\n",
       "      <td>1.212327</td>\n",
       "      <td>1.213457</td>\n",
       "      <td>1.213872</td>\n",
       "      <td>1.214828</td>\n",
       "      <td>1.215266</td>\n",
       "      <td>1.215728</td>\n",
       "      <td>14.28</td>\n",
       "      <td>13.19</td>\n",
       "    </tr>\n",
       "    <tr>\n",
       "      <th>38</th>\n",
       "      <td>0.380012</td>\n",
       "      <td>0.379461</td>\n",
       "      <td>0.378808</td>\n",
       "      <td>0.378227</td>\n",
       "      <td>0.377794</td>\n",
       "      <td>0.377372</td>\n",
       "      <td>0.376969</td>\n",
       "      <td>0.376758</td>\n",
       "      <td>0.376619</td>\n",
       "      <td>0.376771</td>\n",
       "      <td>...</td>\n",
       "      <td>1.211252</td>\n",
       "      <td>1.212775</td>\n",
       "      <td>1.214302</td>\n",
       "      <td>1.215281</td>\n",
       "      <td>1.216130</td>\n",
       "      <td>1.217018</td>\n",
       "      <td>1.217314</td>\n",
       "      <td>1.217679</td>\n",
       "      <td>13.41</td>\n",
       "      <td>13.36</td>\n",
       "    </tr>\n",
       "    <tr>\n",
       "      <th>41</th>\n",
       "      <td>0.332696</td>\n",
       "      <td>0.332156</td>\n",
       "      <td>0.331465</td>\n",
       "      <td>0.330848</td>\n",
       "      <td>0.330299</td>\n",
       "      <td>0.329821</td>\n",
       "      <td>0.329393</td>\n",
       "      <td>0.328973</td>\n",
       "      <td>0.328665</td>\n",
       "      <td>0.328446</td>\n",
       "      <td>...</td>\n",
       "      <td>1.013837</td>\n",
       "      <td>1.015489</td>\n",
       "      <td>1.017036</td>\n",
       "      <td>1.018236</td>\n",
       "      <td>1.019413</td>\n",
       "      <td>1.020136</td>\n",
       "      <td>1.020447</td>\n",
       "      <td>1.021025</td>\n",
       "      <td>11.09</td>\n",
       "      <td>16.94</td>\n",
       "    </tr>\n",
       "    <tr>\n",
       "      <th>81</th>\n",
       "      <td>0.356275</td>\n",
       "      <td>0.355716</td>\n",
       "      <td>0.355112</td>\n",
       "      <td>0.354551</td>\n",
       "      <td>0.354116</td>\n",
       "      <td>0.353746</td>\n",
       "      <td>0.353439</td>\n",
       "      <td>0.353174</td>\n",
       "      <td>0.353080</td>\n",
       "      <td>0.353187</td>\n",
       "      <td>...</td>\n",
       "      <td>1.099982</td>\n",
       "      <td>1.101652</td>\n",
       "      <td>1.102772</td>\n",
       "      <td>1.104261</td>\n",
       "      <td>1.105301</td>\n",
       "      <td>1.106350</td>\n",
       "      <td>1.106442</td>\n",
       "      <td>1.106805</td>\n",
       "      <td>12.96</td>\n",
       "      <td>15.46</td>\n",
       "    </tr>\n",
       "  </tbody>\n",
       "</table>\n",
       "<p>5 rows × 703 columns</p>\n",
       "</div>"
      ],
      "text/plain": [
       "         0         1         2         3         4         5         6    \\\n",
       "14  0.362412  0.361825  0.361134  0.360609  0.360112  0.359721  0.359339   \n",
       "35  0.377192  0.376619  0.375880  0.375341  0.374844  0.374367  0.374075   \n",
       "38  0.380012  0.379461  0.378808  0.378227  0.377794  0.377372  0.376969   \n",
       "41  0.332696  0.332156  0.331465  0.330848  0.330299  0.329821  0.329393   \n",
       "81  0.356275  0.355716  0.355112  0.354551  0.354116  0.353746  0.353439   \n",
       "\n",
       "         7         8         9    ...       693       694       695       696  \\\n",
       "14  0.359164  0.359098  0.359243  ...  1.209659  1.210886  1.212192  1.213702   \n",
       "35  0.373826  0.373707  0.373812  ...  1.209182  1.210624  1.212327  1.213457   \n",
       "38  0.376758  0.376619  0.376771  ...  1.211252  1.212775  1.214302  1.215281   \n",
       "41  0.328973  0.328665  0.328446  ...  1.013837  1.015489  1.017036  1.018236   \n",
       "81  0.353174  0.353080  0.353187  ...  1.099982  1.101652  1.102772  1.104261   \n",
       "\n",
       "         697       698       699       700    701    702  \n",
       "14  1.214268  1.215435  1.215187  1.215773  13.10  12.45  \n",
       "35  1.213872  1.214828  1.215266  1.215728  14.28  13.19  \n",
       "38  1.216130  1.217018  1.217314  1.217679  13.41  13.36  \n",
       "41  1.019413  1.020136  1.020447  1.021025  11.09  16.94  \n",
       "81  1.105301  1.106350  1.106442  1.106805  12.96  15.46  \n",
       "\n",
       "[5 rows x 703 columns]"
      ]
     },
     "execution_count": 55,
     "metadata": {},
     "output_type": "execute_result"
    }
   ],
   "source": [
    "from scipy.io import loadmat\n",
    "\n",
    "annots = loadmat('Datasets/wheat.mat')\n",
    "\n",
    "df_wheat = pd.DataFrame(annots['wheat'])\n",
    "\n",
    "df_wheat.sample(5)"
   ]
  },
  {
   "cell_type": "code",
   "execution_count": 37,
   "metadata": {},
   "outputs": [],
   "source": [
    "X = df_wheat.iloc[:,:701].values\n",
    "y = df_wheat.iloc[:,702].values\n",
    "\n",
    "\n",
    "sc = RobustScaler()\n",
    "\n",
    "X_train, X_test, y_train, y_test = train_test_split(X, y, test_size=0.25, random_state=42)\n",
    "\n",
    "X_train = sc.fit_transform(X_train)\n",
    "X_test = sc.transform(X_test)\n",
    "\n",
    "\n",
    "y_train = sc.fit_transform(y_train.reshape(-1,1))\n",
    "y_test = sc.transform(y_test.reshape(-1,1))"
   ]
  },
  {
   "cell_type": "code",
   "execution_count": 54,
   "metadata": {},
   "outputs": [
    {
     "data": {
      "text/plain": [
       "<matplotlib.collections.PathCollection at 0x25f04deeb20>"
      ]
     },
     "execution_count": 54,
     "metadata": {},
     "output_type": "execute_result"
    },
    {
     "data": {
      "image/png": "[encoded data removed]",
      "text/plain": [
       "<Figure size 432x288 with 1 Axes>"
      ]
     },
     "metadata": {
      "needs_background": "light"
     },
     "output_type": "display_data"
    }
   ],
   "source": [
    "import warnings\n",
    "warnings.filterwarnings('ignore')\n",
    "\n",
    "pls = [0]*100\n",
    "mse = [0]*100\n",
    "\n",
    "for n in range (1,100):\n",
    "\n",
    "    pls[n] = PLSRegression(n_components=n)\n",
    "    pls[n].fit(X_train, y_train)\n",
    "    mse[n] = mean_squared_error(y_test, pls[n].predict(X_test))\n",
    "    #print ('Número de componentes: ', n)\n",
    "    #print ('MSE: ', mean_squared_error(y_test, pls[n].predict(X_test)))\n",
    "    #print ('R2: ', r2_score(y_test, pls[n].predict(X_test)))\n",
    "    \n",
    "\n",
    "plt.scatter(range(0,20), mse[:20])"
   ]
  },
  {
   "cell_type": "code",
   "execution_count": 58,
   "metadata": {},
   "outputs": [
    {
     "name": "stdout",
     "output_type": "stream",
     "text": [
      "dict_keys(['__header__', '__version__', '__globals__', 'information', 'm5spec', 'mp5spec', 'mp6spec', 'propvals', 'm5nbs', 'mp5nbs', 'mp6nbs', 'b', 'a', 'corn_m5spec', 'd', 'corn_mp5spec', 'c', 'X1', 'Y1', 'Num_Parametro', 'smoother', 'lambda', 'dX', 'X', 'dlambda', 'nSamp', 'nVar', 'Xorig', 'Xini', 'normalize', 'centering', 'scale', 'SizeSetCal', 'SelMethod', 'decompose', 'parametro', 'y', 'yorig', 'yini', 'wavelet', 'k', 'Lmax', 'Lmax_maior', 'ycell', 'Num_Var_Sel', 'j', 'kk', 'Ldec', 'i', 'C', 'L', 'Xdec', 'nCol', 'mXdec', 'my', 'Var_Xdec', 'Var_Xdec_perc', 'ind', 'Var_Xdec_perc_decr', 'Xdec_decr', 'Var_Xdec_perc_Cum', 'jj', 'ii', 'indc', 'Xdec_red', 'nVar_red', 'nSampVal', 'nSampCal', 'Ind', 'Xcal', 'ycal', 'Xval', 'yval', 'alpha_exit', 'alpha_entry', 'var_sel', 'yhat', 'e', 'yprev', 'ytrue', 'F_array', 'Mat_Sign', 'corn_mp5'])\n"
     ]
    }
   ],
   "source": [
    "print(annots.keys())"
   ]
  },
  {
   "cell_type": "code",
   "execution_count": 57,
   "metadata": {},
   "outputs": [
    {
     "name": "stdout",
     "output_type": "stream",
     "text": [
      "['This data set consists of 80 samples of corn measured on    '\n",
      " '3 different NIR spectrometers. The wavelength range is      '\n",
      " '1100-2498nm at 2 nm intervals (700 channels). The moisture, '\n",
      " 'oil, protein and starch values for each of the samples is   '\n",
      " 'also included. A number of NBS glass standards were also    '\n",
      " 'measured on each instrument. The data was originally taken  '\n",
      " 'at Cargill. Many thanks for Mike Blackburn for letting us   '\n",
      " 'distribute it.                                              '\n",
      " '                                                            '\n",
      " 'The variables in this data set are described below:         '\n",
      " '   information: [20x59  char  ] This field                  '\n",
      " '        m5spec: [80x700 dataset] Spectra on instrument m5   '\n",
      " '       mp5spec: [80x700 dataset] Spectra on instrument mp5  '\n",
      " '       mp6spec: [80x700 dataset] Spectra on instrument mp6  '\n",
      " '      propvals: [80x4   dataset] Property values for samples'\n",
      " '         m5nbs: [ 3x700 dataset] NBS glass stds on m5       '\n",
      " '        mp5nbs: [ 4x700 dataset] NBS glass stds on mp5      '\n",
      " '        mp6nbs: [ 4x700 dataset] NBS glass stds on mp6      ']\n"
     ]
    }
   ],
   "source": [
    "annots = loadmat('Datasets/corn_mp5.mat')\n",
    "\n",
    "print(annots['information'])"
   ]
  }
 ],
 "metadata": {
  "interpreter": {
   "hash": "47e3f425e1f5e080840b02324288bfe2474c53b4d8fc90d3d863797934e6a5da"
  },
  "kernelspec": {
   "display_name": "Python 3.9.13 64-bit (windows store)",
   "language": "python",
   "name": "python3"
  },
  "language_info": {
   "codemirror_mode": {
    "name": "ipython",
    "version": 3
   },
   "file_extension": ".py",
   "mimetype": "text/x-python",
   "name": "python",
   "nbconvert_exporter": "python",
   "pygments_lexer": "ipython3",
   "version": "3.9.13"
  },
  "orig_nbformat": 4
 },
 "nbformat": 4,
 "nbformat_minor": 2
}
