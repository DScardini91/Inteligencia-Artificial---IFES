{
 "cells": [
  {
   "cell_type": "code",
   "execution_count": 7,
   "metadata": {},
   "outputs": [],
   "source": [
    "import scipy\n",
    "import pandas as pd\n",
    "import numpy as np\n",
    "import matplotlib.pyplot as plt\n",
    "import seaborn as sns\n",
    "from scipy.io import loadmat\n",
    "from sklearn.model_selection import train_test_split\n",
    "from sklearn.preprocessing import RobustScaler\n",
    "from sklearn.metrics import mean_squared_error\n",
    "from sklearn.metrics import r2_score\n",
    "from sklearn.cross_decomposition import PLSRegression"
   ]
  },
  {
   "cell_type": "markdown",
   "metadata": {},
   "source": [
    "# Banco de dados wheat: Espectros NIR de 100 amostras de FLOUR. Faixa de comprimento de onda de 1101 a 2502 nm com 2 nm de intervalo (701 preditores)\n",
    "\n",
    "Respostas: moisture e protein\n",
    " \n",
    "x0 - x700   = Absorbancias nos comprimentos de onda de 1101-2502 nm.\n",
    "\n",
    "x702 - x703 = Matriz de respostas "
   ]
  },
  {
   "cell_type": "code",
   "execution_count": 100,
   "metadata": {},
   "outputs": [
    {
     "data": {
      "text/html": [
       "<div>\n",
       "<style scoped>\n",
       "    .dataframe tbody tr th:only-of-type {\n",
       "        vertical-align: middle;\n",
       "    }\n",
       "\n",
       "    .dataframe tbody tr th {\n",
       "        vertical-align: top;\n",
       "    }\n",
       "\n",
       "    .dataframe thead th {\n",
       "        text-align: right;\n",
       "    }\n",
       "</style>\n",
       "<table border=\"1\" class=\"dataframe\">\n",
       "  <thead>\n",
       "    <tr style=\"text-align: right;\">\n",
       "      <th></th>\n",
       "      <th>0</th>\n",
       "      <th>1</th>\n",
       "      <th>2</th>\n",
       "      <th>3</th>\n",
       "      <th>4</th>\n",
       "      <th>5</th>\n",
       "      <th>6</th>\n",
       "      <th>7</th>\n",
       "      <th>8</th>\n",
       "      <th>9</th>\n",
       "      <th>...</th>\n",
       "      <th>693</th>\n",
       "      <th>694</th>\n",
       "      <th>695</th>\n",
       "      <th>696</th>\n",
       "      <th>697</th>\n",
       "      <th>698</th>\n",
       "      <th>699</th>\n",
       "      <th>700</th>\n",
       "      <th>701</th>\n",
       "      <th>702</th>\n",
       "    </tr>\n",
       "  </thead>\n",
       "  <tbody>\n",
       "    <tr>\n",
       "      <th>21</th>\n",
       "      <td>0.338895</td>\n",
       "      <td>0.338320</td>\n",
       "      <td>0.337689</td>\n",
       "      <td>0.337149</td>\n",
       "      <td>0.336694</td>\n",
       "      <td>0.336325</td>\n",
       "      <td>0.335979</td>\n",
       "      <td>0.335747</td>\n",
       "      <td>0.335722</td>\n",
       "      <td>0.335871</td>\n",
       "      <td>...</td>\n",
       "      <td>1.188043</td>\n",
       "      <td>1.189586</td>\n",
       "      <td>1.191194</td>\n",
       "      <td>1.191995</td>\n",
       "      <td>1.192848</td>\n",
       "      <td>1.194046</td>\n",
       "      <td>1.194022</td>\n",
       "      <td>1.194767</td>\n",
       "      <td>11.77</td>\n",
       "      <td>13.42</td>\n",
       "    </tr>\n",
       "    <tr>\n",
       "      <th>42</th>\n",
       "      <td>0.324872</td>\n",
       "      <td>0.324283</td>\n",
       "      <td>0.323625</td>\n",
       "      <td>0.323000</td>\n",
       "      <td>0.322465</td>\n",
       "      <td>0.322010</td>\n",
       "      <td>0.321541</td>\n",
       "      <td>0.321147</td>\n",
       "      <td>0.320835</td>\n",
       "      <td>0.320701</td>\n",
       "      <td>...</td>\n",
       "      <td>0.996889</td>\n",
       "      <td>0.998503</td>\n",
       "      <td>1.000170</td>\n",
       "      <td>1.001273</td>\n",
       "      <td>1.002322</td>\n",
       "      <td>1.002956</td>\n",
       "      <td>1.003353</td>\n",
       "      <td>1.003965</td>\n",
       "      <td>10.86</td>\n",
       "      <td>16.77</td>\n",
       "    </tr>\n",
       "    <tr>\n",
       "      <th>86</th>\n",
       "      <td>0.303480</td>\n",
       "      <td>0.302918</td>\n",
       "      <td>0.302296</td>\n",
       "      <td>0.301760</td>\n",
       "      <td>0.301262</td>\n",
       "      <td>0.300866</td>\n",
       "      <td>0.300488</td>\n",
       "      <td>0.300183</td>\n",
       "      <td>0.299965</td>\n",
       "      <td>0.299893</td>\n",
       "      <td>...</td>\n",
       "      <td>1.045599</td>\n",
       "      <td>1.047611</td>\n",
       "      <td>1.049176</td>\n",
       "      <td>1.050479</td>\n",
       "      <td>1.051330</td>\n",
       "      <td>1.051938</td>\n",
       "      <td>1.052562</td>\n",
       "      <td>1.053103</td>\n",
       "      <td>11.30</td>\n",
       "      <td>15.83</td>\n",
       "    </tr>\n",
       "  </tbody>\n",
       "</table>\n",
       "<p>3 rows × 703 columns</p>\n",
       "</div>"
      ],
      "text/plain": [
       "         0         1         2         3         4         5         6    \\\n",
       "21  0.338895  0.338320  0.337689  0.337149  0.336694  0.336325  0.335979   \n",
       "42  0.324872  0.324283  0.323625  0.323000  0.322465  0.322010  0.321541   \n",
       "86  0.303480  0.302918  0.302296  0.301760  0.301262  0.300866  0.300488   \n",
       "\n",
       "         7         8         9    ...       693       694       695       696  \\\n",
       "21  0.335747  0.335722  0.335871  ...  1.188043  1.189586  1.191194  1.191995   \n",
       "42  0.321147  0.320835  0.320701  ...  0.996889  0.998503  1.000170  1.001273   \n",
       "86  0.300183  0.299965  0.299893  ...  1.045599  1.047611  1.049176  1.050479   \n",
       "\n",
       "         697       698       699       700    701    702  \n",
       "21  1.192848  1.194046  1.194022  1.194767  11.77  13.42  \n",
       "42  1.002322  1.002956  1.003353  1.003965  10.86  16.77  \n",
       "86  1.051330  1.051938  1.052562  1.053103  11.30  15.83  \n",
       "\n",
       "[3 rows x 703 columns]"
      ]
     },
     "execution_count": 100,
     "metadata": {},
     "output_type": "execute_result"
    }
   ],
   "source": [
    "annots = loadmat('Datasets/wheat.mat')                  # Carregar o arquivo wheat.mat\n",
    "df_wheat = pd.DataFrame(annots['wheat'])                # Transformar em um dataframe\n",
    "\n",
    "df_wheat.sample(3)"
   ]
  },
  {
   "cell_type": "markdown",
   "metadata": {},
   "source": [
    "## Pré-processamento e normalização"
   ]
  },
  {
   "cell_type": "code",
   "execution_count": 101,
   "metadata": {},
   "outputs": [],
   "source": [
    "X = df_wheat.iloc[:,:700].values                         # x0 - x700   = Absorbancias nos comprimentos de onda de 1101-2502 nm.\n",
    "y1 = df_wheat.iloc[:,701].values                         # 701 = Moisture\n",
    "y2 = df_wheat.iloc[:,702].values                         # 702 = Protein   \n",
    "sc = RobustScaler()                                      # Instancia do robust scaler, para normalizar os dados - usa mediana e desvio padrão\n",
    "\n",
    "\n",
    "# MOISTURE\n",
    "#train_test spli - escolhido 25% como teste\n",
    "X_train, X_test, y1_train, y1_test = train_test_split(\n",
    "                                                    X, y1, \n",
    "                                                    test_size=0.25, \n",
    "                                                    random_state=42\n",
    "                                                    )\n",
    "\n",
    "# PROTEIN\n",
    "#train_test spli - escolhido 25% como teste\n",
    "X_train, X_test, y2_train, y2_test = train_test_split(\n",
    "                                                    X, y2, \n",
    "                                                    test_size=0.25, \n",
    "                                                    random_state=42\n",
    "                                                    )\n",
    "\n",
    "X_train = sc.fit_transform(X_train)                     # Normalização dos dados de treino - fit\n",
    "X_test = sc.transform(X_test)                           # Normalização dos dados de teste - transform apenas. Evita problemas de data leakage\n",
    "\n",
    "# MOISTURE\n",
    "y1_train = sc.fit_transform(y1_train.reshape(-1,1))     # Normalização dos dados de treino - fit\n",
    "y1_test = sc.transform(y1_test.reshape(-1,1))           # Normalização dos dados de teste - transform apenas. Evita problemas de data leakage\n",
    "\n",
    "# PROTEIN\n",
    "y2_train = sc.fit_transform(y2_train.reshape(-1,1))     # Normalização dos dados de treino - fit\n",
    "y2_test = sc.transform(y2_test.reshape(-1,1))           # Normalização dos dados de teste - transform apenas. Evita problemas de data leakage"
   ]
  },
  {
   "cell_type": "markdown",
   "metadata": {},
   "source": [
    "## Teste das componentes para encontrar menor valor de erro"
   ]
  },
  {
   "cell_type": "code",
   "execution_count": 109,
   "metadata": {},
   "outputs": [
    {
     "name": "stdout",
     "output_type": "stream",
     "text": [
      "MSE mínimo: 0.22 foi atingido com n_components = 25 para a variável Moisture\n",
      "R2 score da regressão com 25 componentes para a variável Moisture: 0.81\n",
      "\n",
      "\n",
      "MSE mínimo: 0.00 foi atingido com n_components = 26 para a variável Proteína\n",
      "R2 score da regressão com 26 componentes para a variável Proteína: 0.98\n"
     ]
    },
    {
     "data": {
      "text/plain": [
       "<matplotlib.legend.Legend at 0x16b0a5f77c0>"
      ]
     },
     "execution_count": 109,
     "metadata": {},
     "output_type": "execute_result"
    },
    {
     "data": {
      "image/png": "[encoded data removed]",
      "text/plain": [
       "<Figure size 576x432 with 1 Axes>"
      ]
     },
     "metadata": {},
     "output_type": "display_data"
    }
   ],
   "source": [
    "# muitos avisos de deprecação\n",
    "import warnings\n",
    "warnings.filterwarnings('ignore')\n",
    "\n",
    "pls = [0]*100                                                     # Inicia vetor com PLS de 1 a 100 componentes\n",
    "mse = [0]*100                                                     # Inicia vetor de erro para guardar cada um dos erros da regressão PLS\n",
    "\n",
    "\n",
    "for n in range (1,100):                                           # Loop para calcular o erro para cada número de componentes\n",
    "\n",
    "    pls[n] = PLSRegression(n_components=n)                        # Instancia o modelo PLS com n componentes\n",
    "    pls[n].fit(X_train, y1_train)                                  # Faz a regressão\n",
    "    mse[n] = mean_squared_error(y1_test, pls[n].predict(X_test))   # Calcula o erro   \n",
    "mse[0] = mse[1]                                                   # tratamento para evitar o erro na hora de avaliar o mínimo MSE\n",
    "\n",
    "\n",
    "sns.set(rc={'figure.figsize':(8,6)})                              # Define o tamanho e parâmetros da imagem\n",
    "ax = plt.scatter(range(1,40), mse[1:40])                          # Plota o gráfico de erro\n",
    "plt.title('MSE vs. n_components')                                 # Define o título do gráfico  \n",
    "plt.xlabel('n_components')                                        # Define o título do eixo x\n",
    "plt.ylabel('MSE')                                                 # Define o título do eixo y\n",
    "\n",
    "\n",
    "# Printa o número de componentes e o erro mínimo\n",
    "print('MSE mínimo: {0:.2f} foi atingido com n_components = {1} para a variável Moisture'.format(min(mse[1:40]), mse.index(min(mse[1:40]))+1))\n",
    "print('R2 score da regressão com {0} componentes para a variável Moisture: {1:.2f}'.format(mse.index(min(mse[1:40]))+1, r2_score(y1_test, pls[mse.index(min(mse[1:40]))+1].predict(X_test))))\n",
    "print('\\n') \n",
    "\n",
    "for n in range (1,100):                                           # Loop para calcular o erro para cada número de componentes\n",
    "\n",
    "    pls[n] = PLSRegression(n_components=n)                        # Instancia o modelo PLS com n componentes\n",
    "    pls[n].fit(X_train, y2_train)                                  # Faz a regressão\n",
    "    mse[n] = mean_squared_error(y2_test, pls[n].predict(X_test))   # Calcula o erro   \n",
    "mse[0] = mse[1]                                                   # tratamento para evitar o erro na hora de avaliar o mínimo MSE\n",
    "\n",
    "# Printa o número de componentes e o erro mínimo\n",
    "print('MSE mínimo: {0:.2f} foi atingido com n_components = {1} para a variável Proteína'.format(min(mse[1:40]), mse.index(min(mse[1:40]))+1))\n",
    "print('R2 score da regressão com {0} componentes para a variável Proteína: {1:.2f}'.format(mse.index(min(mse[1:40]))+1, r2_score(y2_test, pls[mse.index(min(mse[1:40]))+1].predict(X_test))))\n",
    "\n",
    "sns.set(rc={'figure.figsize':(8,6)})                              # Define o tamanho e parâmetros da imagem\n",
    "ax = plt.scatter(range(1,40), mse[1:40])                          # Plota o gráfico de erro\n",
    "plt.title('MSE vs. n_components - WHEAT')                                 # Define o título do gráfico  \n",
    "plt.xlabel('n_components')                                        # Define o título do eixo x\n",
    "plt.ylabel('MSE')\n",
    "\n",
    "plt.legend(title='Variável', loc='upper right', labels=['Moisture', 'Protein'])\n",
    "    \n",
    "\n",
    "    # Printa o número de componentes e o erro mínimo\n",
    "      "
   ]
  },
  {
   "cell_type": "markdown",
   "metadata": {},
   "source": [
    "# Corn Dataset\n"
   ]
  },
  {
   "cell_type": "code",
   "execution_count": 110,
   "metadata": {},
   "outputs": [
    {
     "data": {
      "text/html": [
       "<div>\n",
       "<style scoped>\n",
       "    .dataframe tbody tr th:only-of-type {\n",
       "        vertical-align: middle;\n",
       "    }\n",
       "\n",
       "    .dataframe tbody tr th {\n",
       "        vertical-align: top;\n",
       "    }\n",
       "\n",
       "    .dataframe thead th {\n",
       "        text-align: right;\n",
       "    }\n",
       "</style>\n",
       "<table border=\"1\" class=\"dataframe\">\n",
       "  <thead>\n",
       "    <tr style=\"text-align: right;\">\n",
       "      <th></th>\n",
       "      <th>0</th>\n",
       "      <th>1</th>\n",
       "      <th>2</th>\n",
       "      <th>3</th>\n",
       "    </tr>\n",
       "  </thead>\n",
       "  <tbody>\n",
       "    <tr>\n",
       "      <th>10</th>\n",
       "      <td>9.754</td>\n",
       "      <td>3.556</td>\n",
       "      <td>8.504</td>\n",
       "      <td>66.472</td>\n",
       "    </tr>\n",
       "    <tr>\n",
       "      <th>5</th>\n",
       "      <td>10.253</td>\n",
       "      <td>3.507</td>\n",
       "      <td>8.728</td>\n",
       "      <td>64.287</td>\n",
       "    </tr>\n",
       "    <tr>\n",
       "      <th>66</th>\n",
       "      <td>9.958</td>\n",
       "      <td>3.088</td>\n",
       "      <td>9.021</td>\n",
       "      <td>63.784</td>\n",
       "    </tr>\n",
       "  </tbody>\n",
       "</table>\n",
       "</div>"
      ],
      "text/plain": [
       "         0      1      2       3\n",
       "10   9.754  3.556  8.504  66.472\n",
       "5   10.253  3.507  8.728  64.287\n",
       "66   9.958  3.088  9.021  63.784"
      ]
     },
     "execution_count": 110,
     "metadata": {},
     "output_type": "execute_result"
    }
   ],
   "source": [
    "annots = loadmat('Datasets/corn_mp5.mat')                  # Carregar o arquivo wheat.mat\n",
    "\n",
    "df_corn_features = pd.DataFrame(annots['mp6spec'][0][0][7])\n",
    "df_corn_results = pd.DataFrame(annots['propvals'])\n",
    "                               \n",
    "df_corn_results.sample(3) "
   ]
  },
  {
   "cell_type": "markdown",
   "metadata": {},
   "source": [
    "## Pré-processamento e normalização"
   ]
  },
  {
   "cell_type": "code",
   "execution_count": 111,
   "metadata": {},
   "outputs": [],
   "source": [
    "sc = RobustScaler()                                      # Instancia do robust scaler, para normalizar os dados - usa mediana e desvio padrão\n",
    "y, y_train, y_test = [0]*4, [0]*4, [0]*4                                # Inicializa a lista de resultados   \n",
    "\n",
    "X = df_corn_features.iloc[:,:].values                    # x0 - x700   = Absorbancias nos comprimentos de onda de 1101-2502 nm.\n",
    "\n",
    "for i in range (4):\n",
    "    y[i] = df_corn_results.iloc[:, i].values               # Loop para cada resultado:  \n",
    "    #train_test spli - escolhido 25% como teste\n",
    "    X_train, X_test, y_train[i], y_test[i] = train_test_split(\n",
    "                                                    X, y[i], \n",
    "                                                    test_size=0.25, \n",
    "                                                    random_state=42\n",
    "                                                    )\n",
    "    y_train[i] = sc.fit_transform(y_train[i].reshape(-1,1))     # Normalização dos dados de treino - fit\n",
    "    y_test[i] = sc.transform(y_test[i].reshape(-1,1))           # Normalização dos dados de teste - transform apenas. Evita problemas de data leakage\n",
    "    # muitos avisos de deprecação\n",
    "\n",
    "X_train = sc.fit_transform(X_train)                     # Normalização dos dados de treino - fit\n",
    "X_test = sc.transform(X_test)                           # Normalização dos dados de teste - transform apenas. Evita problemas de data leakage\n"
   ]
  },
  {
   "cell_type": "markdown",
   "metadata": {},
   "source": [
    "## Regressão PLS"
   ]
  },
  {
   "cell_type": "code",
   "execution_count": 112,
   "metadata": {},
   "outputs": [
    {
     "name": "stdout",
     "output_type": "stream",
     "text": [
      "MSE mínimo: 0.07 foi atingido com n_components = 11 para a variável de saída n1\n",
      "R2 score da regressão com 11 componentes para a variável de saida n1: 0.89\n",
      "\n",
      "\n",
      "MSE mínimo: 0.08 foi atingido com n_components = 18 para a variável de saída n2\n",
      "R2 score da regressão com 18 componentes para a variável de saida n2: 0.71\n",
      "\n",
      "\n",
      "MSE mínimo: 0.04 foi atingido com n_components = 15 para a variável de saída n3\n",
      "R2 score da regressão com 15 componentes para a variável de saida n3: 0.92\n",
      "\n",
      "\n",
      "MSE mínimo: 0.11 foi atingido com n_components = 12 para a variável de saída n4\n",
      "R2 score da regressão com 12 componentes para a variável de saida n4: 0.85\n",
      "\n",
      "\n"
     ]
    },
    {
     "data": {
      "image/png": "[encoded data removed]",
      "text/plain": [
       "<Figure size 576x432 with 1 Axes>"
      ]
     },
     "metadata": {},
     "output_type": "display_data"
    }
   ],
   "source": [
    "import warnings\n",
    "warnings.filterwarnings('ignore')\n",
    "\n",
    "pls = [0]*100                                                     # Inicia vetor com PLS de 1 a 100 componentes\n",
    "mse = [0]*100                                                     # Inicia vetor de erro para guardar cada um dos erros da regressão PLS\n",
    "\n",
    "for i in range(4):\n",
    "    for n in range (1,100):                                              # Loop para calcular o erro para cada número de componentes\n",
    "\n",
    "        pls[n] = PLSRegression(n_components=n)                           # Instancia o modelo PLS com n componentes\n",
    "        pls[n].fit(X_train, y_train[i])                                  # Faz a regressão\n",
    "        mse[n] = mean_squared_error(y_test[i], pls[n].predict(X_test))   # Calcula o erro   \n",
    "    mse[0] = mse[1]                                                      # tratamento para evitar o erro na hora de avaliar o mínimo MSE\n",
    "\n",
    "\n",
    "    sns.set(rc={'figure.figsize':(8,6)})                              # Define o tamanho e parâmetros da imagem\n",
    "    ax = plt.scatter(range(1,40), mse[1:40])                          # Plota o gráfico de erro\n",
    "    plt.title('MSE vs. n_components - CORN')                          # Define o título do gráfico  \n",
    "    plt.xlabel('n_components')                                        # Define o título do eixo x\n",
    "    plt.ylabel('MSE')                                                 # Define o título do eixo y\n",
    "    plt.legend(title='Variável', loc='upper right', labels=['y1', 'y2', 'y3', 'y4'])\n",
    "    \n",
    "\n",
    "    # Printa o número de componentes e o erro mínimo\n",
    "    print('MSE mínimo: {0:.2f} foi atingido com n_components = {1} para a variável de saída n{2}'.format(min(mse[1:40]), mse.index(min(mse[1:40]))+1, i+1))\n",
    "    print('R2 score da regressão com {0} componentes para a variável de saida n{1}: {2:.2f}'.format(mse.index(min(mse[1:40]))+1, i+1, r2_score(y_test[i], pls[mse.index(min(mse[1:40]))+1].predict(X_test))))\n",
    "    print('\\n')"
   ]
  },
  {
   "cell_type": "code",
   "execution_count": null,
   "metadata": {},
   "outputs": [],
   "source": []
  }
 ],
 "metadata": {
  "interpreter": {
   "hash": "ad2bdc8ecc057115af97d19610ffacc2b4e99fae6737bb82f5d7fb13d2f2c186"
  },
  "kernelspec": {
   "display_name": "Python 3.9.7 ('base')",
   "language": "python",
   "name": "python3"
  },
  "language_info": {
   "codemirror_mode": {
    "name": "ipython",
    "version": 3
   },
   "file_extension": ".py",
   "mimetype": "text/x-python",
   "name": "python",
   "nbconvert_exporter": "python",
   "pygments_lexer": "ipython3",
   "version": "3.9.7"
  },
  "orig_nbformat": 4
 },
 "nbformat": 4,
 "nbformat_minor": 2
}
